{
 "cells": [
  {
   "cell_type": "markdown",
   "metadata": {},
   "source": [
    "# Python While Loop "
   ]
  },
  {
   "cell_type": "code",
   "execution_count": 1,
   "metadata": {},
   "outputs": [
    {
     "name": "stdout",
     "output_type": "stream",
     "text": [
      "Now Counter is:  0\n",
      "Now Counter is:  1\n",
      "Now Counter is:  2\n",
      "Now Counter is:  3\n",
      "Now Counter is:  4\n",
      "Now Counter is:  5\n",
      "Now Counter is:  6\n",
      "Now Counter is:  7\n",
      "Now Counter is:  8\n",
      "Now Counter is:  9\n",
      "Now Counter is:  10\n"
     ]
    }
   ],
   "source": [
    "counter = 0\n",
    "while counter <=10:\n",
    "    print(\"Now Counter is: \",counter)\n",
    "    counter += 1"
   ]
  },
  {
   "cell_type": "markdown",
   "metadata": {},
   "source": [
    "## While loop with else"
   ]
  },
  {
   "cell_type": "code",
   "execution_count": 2,
   "metadata": {},
   "outputs": [
    {
     "name": "stdout",
     "output_type": "stream",
     "text": [
      "Inside loop\n",
      "Inside loop\n",
      "Inside loop\n",
      "Inside else\n"
     ]
    }
   ],
   "source": [
    "counter = 0\n",
    "\n",
    "while counter < 3:\n",
    "    print(\"Inside loop\")\n",
    "    counter = counter + 1\n",
    "else:\n",
    "    print(\"Inside else\")"
   ]
  },
  {
   "cell_type": "code",
   "execution_count": null,
   "metadata": {},
   "outputs": [],
   "source": []
  }
 ],
 "metadata": {
  "kernelspec": {
   "display_name": "Python 3",
   "language": "python",
   "name": "python3"
  },
  "language_info": {
   "codemirror_mode": {
    "name": "ipython",
    "version": 3
   },
   "file_extension": ".py",
   "mimetype": "text/x-python",
   "name": "python",
   "nbconvert_exporter": "python",
   "pygments_lexer": "ipython3",
   "version": "3.7.4"
  }
 },
 "nbformat": 4,
 "nbformat_minor": 2
}
