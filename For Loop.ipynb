{
 "cells": [
  {
   "cell_type": "markdown",
   "metadata": {},
   "source": [
    "# Python For Loop "
   ]
  },
  {
   "cell_type": "code",
   "execution_count": 3,
   "metadata": {},
   "outputs": [
    {
     "name": "stdout",
     "output_type": "stream",
     "text": [
      "Here is:  Cat\n",
      "Here is:  Dog\n",
      "Here is:  Lion\n",
      "Here is:  Rabbit\n",
      "Here is:  Tiger\n"
     ]
    }
   ],
   "source": [
    "animals = ['Cat','Dog','Lion','Rabbit','Tiger']\n",
    "for i in animals:\n",
    "    print(\"Here is:\",\"\",i)"
   ]
  },
  {
   "cell_type": "code",
   "execution_count": 4,
   "metadata": {},
   "outputs": [
    {
     "name": "stdout",
     "output_type": "stream",
     "text": [
      "At index 0  Animal is:  Cat\n",
      "At index 1  Animal is:  Dog\n",
      "At index 2  Animal is:  Lion\n",
      "At index 3  Animal is:  Rabbit\n",
      "At index 4  Animal is:  Tiger\n"
     ]
    }
   ],
   "source": [
    "for ind,val in enumerate(animals):\n",
    "    print(\"At index\",ind,\"\",\"Animal is: \",val)"
   ]
  },
  {
   "cell_type": "code",
   "execution_count": 3,
   "metadata": {},
   "outputs": [
    {
     "name": "stdout",
     "output_type": "stream",
     "text": [
      "Enter Student Name: ALi\n",
      "['ALi']\n",
      "Enter Student Name: Omer\n",
      "['ALi', 'Omer']\n",
      "Enter Student Name: Bilal\n",
      "['ALi', 'Omer', 'Bilal']\n",
      "Enter Student Name: Haris\n",
      "['ALi', 'Omer', 'Bilal', 'Haris']\n",
      "Enter Student Name: q\n"
     ]
    }
   ],
   "source": [
    "students = []\n",
    "while True:\n",
    "    std = input(\"Enter Student Name: \")\n",
    "    students.append(std)\n",
    "    if std is 'q':\n",
    "        break;\n",
    "    print(students)"
   ]
  },
  {
   "cell_type": "code",
   "execution_count": null,
   "metadata": {},
   "outputs": [],
   "source": []
  }
 ],
 "metadata": {
  "kernelspec": {
   "display_name": "Python 3",
   "language": "python",
   "name": "python3"
  },
  "language_info": {
   "codemirror_mode": {
    "name": "ipython",
    "version": 3
   },
   "file_extension": ".py",
   "mimetype": "text/x-python",
   "name": "python",
   "nbconvert_exporter": "python",
   "pygments_lexer": "ipython3",
   "version": "3.7.4"
  }
 },
 "nbformat": 4,
 "nbformat_minor": 2
}
